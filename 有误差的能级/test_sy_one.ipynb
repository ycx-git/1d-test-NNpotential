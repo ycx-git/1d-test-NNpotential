{
 "cells": [
  {
   "cell_type": "code",
   "execution_count": 95,
   "id": "4ccb205e",
   "metadata": {},
   "outputs": [],
   "source": [
    "import numpy as np\n",
    "import matplotlib.pyplot as plt\n",
    "import torch\n",
    "import torch.nn as nn\n",
    "import os\n",
    "import time"
   ]
  },
  {
   "cell_type": "code",
   "execution_count": 96,
   "id": "8883e2fd",
   "metadata": {},
   "outputs": [],
   "source": [
    "class Mynetwork(nn.Module):\n",
    "    def __init__(self,input_num=1 , out_num=1,hidden_num=128):\n",
    "        super().__init__()\n",
    "        self.MLP=nn.Sequential(\n",
    "            nn.Linear(input_num, hidden_num),\n",
    "            nn.ELU(),\n",
    "            nn.Linear(hidden_num,hidden_num),\n",
    "            nn.ELU(),\n",
    "            nn.Linear(hidden_num,hidden_num),\n",
    "            nn.ELU(),       \n",
    "            nn.Linear(hidden_num,hidden_num),\n",
    "            nn.ELU(),   \n",
    "            nn.Linear(hidden_num,out_num),\n",
    "        )\n",
    "        pass\n",
    "    def forward(self,x):\n",
    "        return self.MLP(x)+self.MLP(-x)\n",
    "    \n",
    "def potential(x):\n",
    "    poten=x*torch.sin(torch.pi*x*2/3)+x**2*2\n",
    "    return poten\n"
   ]
  },
  {
   "cell_type": "code",
   "execution_count": 97,
   "id": "7a2300f1",
   "metadata": {},
   "outputs": [],
   "source": [
    "exe_num=10\n",
    "sigma=0.01\n",
    "\n",
    "total_time=time.time()\n",
    "file_name='f3_model_10_0.01'\n",
    "\n",
    "en_num=40\n",
    "extend_num=10\n",
    "epoch=200000\n",
    "lr=0.01\n",
    "\n",
    "h_bar=1\n",
    "m=1\n",
    "b_lap:float=-h_bar**2/(2*m)\n",
    "\n",
    "# 同时对于库伦势函数, 取e=1, 4\\pi\\epsilon_0=1, E_n=-1/(2n^2)\n",
    "dtype=torch.float32\n",
    "device=torch.device(\"cuda\" if torch.cuda.is_available() else \"cpu\")\n",
    "\n",
    "La=-10\n",
    "Lb =10\n",
    "L=Lb-La  # domain length\n",
    "N = 800   # number of interior points # 对时间成本来说几乎是平方量级\n",
    "h :float= L / (N+1)\n",
    "grid=torch.linspace(La,Lb,N+2,dtype=dtype,device=device)\n",
    "grid=grid[1:-1].unsqueeze(-1)\n",
    "\n",
    "\n",
    "diag = -2.0 / h**2 * torch.ones(N,device=device) * b_lap\n",
    "off_diag = 1.0 / h**2 * torch.ones(N - 1,device=device) * b_lap\n"
   ]
  },
  {
   "cell_type": "code",
   "execution_count": 98,
   "id": "e44eb08e",
   "metadata": {},
   "outputs": [
    {
     "name": "stdout",
     "output_type": "stream",
     "text": [
      "Execution 1 completed.\n",
      "time: 19.19s , epoch: 1969 , loss: 0.2775\n",
      "total time: 0.320277468363444  min\n",
      "Execution 2 completed.\n",
      "time: 5.52s , epoch: 581 , loss: 0.4294\n",
      "total time: 0.41245527664820353  min\n",
      "Execution 3 completed.\n",
      "time: 17.02s , epoch: 1737 , loss: 0.2800\n",
      "total time: 0.6962354779243469  min\n",
      "Execution 4 completed.\n",
      "time: 12.46s , epoch: 1251 , loss: 0.2601\n",
      "total time: 0.9039628148078919  min\n",
      "Execution 5 completed.\n",
      "time: 23.81s , epoch: 2401 , loss: 0.2425\n",
      "total time: 1.3009965022404988  min\n",
      "Execution 6 completed.\n",
      "time: 27.02s , epoch: 2687 , loss: 0.2645\n",
      "total time: 1.7515223026275635  min\n",
      "Execution 7 completed.\n",
      "time: 11.53s , epoch: 1208 , loss: 0.2768\n",
      "total time: 1.9437567154566446  min\n",
      "Execution 8 completed.\n",
      "time: 30.45s , epoch: 3074 , loss: 0.3383\n",
      "total time: 2.4513586362202964  min\n",
      "Execution 9 completed.\n",
      "time: 25.97s , epoch: 2654 , loss: 0.2564\n",
      "total time: 2.884372576077779  min\n",
      "Execution 10 completed.\n",
      "time: 28.41s , epoch: 2995 , loss: 0.2843\n",
      "total time: 3.3579819361368815  min\n"
     ]
    }
   ],
   "source": [
    "\n",
    "#######————————————————————————————————————########    \n",
    "eig_loss_list=[]\n",
    "pre_loss_list=[]\n",
    "\n",
    "potential_list=[]\n",
    "eig_list=[]\n",
    "rand_real_eig_list=[]\n",
    "\n",
    "for execution in range(exe_num):\n",
    "    \n",
    "    V_diag=potential(grid)\n",
    "    A = torch.diag(diag) + torch.diag(off_diag,diagonal=1) + torch.diag(off_diag, diagonal=-1)+torch.diag(V_diag.flatten())\n",
    "    eigenvalues= torch.linalg.eigvalsh(A)\n",
    "    real_en_0=eigenvalues[:en_num].detach()\n",
    "    \n",
    "    ####################\n",
    "    rand_en=sigma*torch.randn(en_num,device=device,dtype=dtype)+1\n",
    "    ####################\n",
    "    real_en=real_en_0*rand_en\n",
    "    real_en,_=torch.sort(real_en)\n",
    "    \n",
    "    rand_real_eig_list.append(real_en.detach().cpu().numpy())\n",
    "    \n",
    "    \n",
    "    # torch.manual_seed(seed=42) \n",
    "    os.makedirs(f'./{file_name}', exist_ok=True)\n",
    "    \n",
    "    model=Mynetwork().to(device=device,dtype=dtype)\n",
    "    optimizer=torch.optim.Adam(model.parameters(),lr=lr)\n",
    "    scheduler = torch.optim.lr_scheduler.ReduceLROnPlateau(optimizer,patience=50,threshold=1e-4)\n",
    "    loss_fn=nn.L1Loss()\n",
    "    \n",
    "    pre_loss=loss_fn(real_en,real_en_0)\n",
    "    pre_loss_list.append(pre_loss.item())\n",
    "\n",
    "    init_time=time.time()\n",
    "    for i in range(epoch):\n",
    "        optimizer.zero_grad()\n",
    "        V_diag=model(grid)\n",
    "        A = torch.diag(diag) + torch.diag(off_diag,diagonal=1) + torch.diag(off_diag, diagonal=-1)+torch.diag(V_diag.flatten())\n",
    "        eigenvalues= torch.linalg.eigvalsh(A)\n",
    "        output=eigenvalues[:en_num]\n",
    "        \n",
    "        loss=loss_fn(output,real_en)\n",
    "        loss.backward()\n",
    "        optimizer.step()\n",
    "        \n",
    "        scheduler.step(loss)\n",
    "        if optimizer.param_groups[0][\"lr\"] <= 1.1e-8:break\n",
    "        \n",
    "    final_loss=loss.item()\n",
    "    final_time=time.time()-init_time\n",
    "    final_epoch=i+1\n",
    "    \n",
    "\n",
    "    eig_loss_list.append(final_loss)\n",
    "    \n",
    "    eig_list.append(output.detach().cpu().numpy())\n",
    "    potential_list.append(V_diag.flatten().detach().cpu().numpy())\n",
    "    # torch.save(model.state_dict(),f'./{file_name}/model_para.pth')\n",
    "\n",
    "    del model\n",
    "    torch.cuda.empty_cache()\n",
    "    print(f'Execution {execution+1} completed.')\n",
    "    print(f'time: {time.time()-init_time:.2f}s , epoch: {final_epoch} , loss: {final_loss:.4f}')\n",
    "    print('total time:',(time.time()-total_time)/60,' min') \n"
   ]
  },
  {
   "cell_type": "code",
   "execution_count": 99,
   "id": "09258fd0",
   "metadata": {},
   "outputs": [
    {
     "data": {
      "text/plain": [
       "<Figure size 640x480 with 0 Axes>"
      ]
     },
     "metadata": {},
     "output_type": "display_data"
    }
   ],
   "source": [
    "real_en_0=real_en_0.cpu().numpy()\n",
    "plt.plot(pre_loss_list,label='pre_rand_loss')\n",
    "plt.title(f'pre_rand_eig_loss')\n",
    "plt.legend()\n",
    "plt.savefig(f'./{file_name}/pre_rand_eig_loss.png')\n",
    "plt.clf()\n",
    "\n",
    "plt.plot(eig_loss_list,label='eig_loss')\n",
    "plt.title(f'eig_loss')\n",
    "plt.legend()\n",
    "plt.savefig(f'./{file_name}/eig_loss.png')\n",
    "plt.clf()"
   ]
  },
  {
   "cell_type": "code",
   "execution_count": 100,
   "id": "fc70d58e",
   "metadata": {},
   "outputs": [
    {
     "name": "stdout",
     "output_type": "stream",
     "text": [
      " 所有执行完成 \n"
     ]
    },
    {
     "data": {
      "text/plain": [
       "<Figure size 640x480 with 0 Axes>"
      ]
     },
     "metadata": {},
     "output_type": "display_data"
    }
   ],
   "source": [
    "grid=torch.linspace(La,Lb,N+2)\n",
    "grid=grid[1:-1]\n",
    "real_poten=potential(grid)\n",
    "real_poten=real_poten.numpy()\n",
    "\n",
    "dpi=600\n",
    "\n",
    "for i in range(len(potential_list)):\n",
    "    plt.plot(grid,potential_list[i],zorder=i+1,color='g',alpha=0.5)\n",
    "plt.plot(grid,real_poten,label='real',zorder=i+10,color='r')\n",
    "plt.ylim(real_poten.min()-10,real_poten.max()+10)\n",
    "plt.title(f'potential band')\n",
    "plt.legend()\n",
    "plt.savefig(f'./{file_name}/potential_band.png',dpi=dpi)\n",
    "plt.clf()\n",
    "\n",
    "count=np.array([i for i in range(en_num)])\n",
    "for i in range(len(eig_list)):\n",
    "    plt.plot(count,eig_list[i],zorder=i+1,color='g',alpha=0.5)\n",
    "plt.plot(count,real_en_0,label='real',zorder=i+10,color='r')\n",
    "plt.ylim(real_en_0.min()-1,real_en_0.max()+1)\n",
    "plt.title(f'eigenvalue band')\n",
    "plt.legend()\n",
    "plt.savefig(f'./{file_name}/eig_band.png',dpi=dpi)\n",
    "plt.clf()\n",
    "\n",
    "for i in range(len(rand_real_eig_list)):\n",
    "    plt.plot(count,rand_real_eig_list[i],zorder=i+1,color='g',alpha=0.5)\n",
    "plt.plot(count,real_en_0,label='real',zorder=i+10,color='r')\n",
    "plt.ylim(real_en_0.min()-1,real_en_0.max()+1)\n",
    "plt.title(f'initial eigenvalue band')\n",
    "plt.legend()\n",
    "plt.savefig(f'./{file_name}/initial_eig_band.png',dpi=dpi)\n",
    "plt.clf()\n",
    "\n",
    "print(' 所有执行完成 ')"
   ]
  }
 ],
 "metadata": {
  "kernelspec": {
   "display_name": "pubpy",
   "language": "python",
   "name": "python3"
  },
  "language_info": {
   "codemirror_mode": {
    "name": "ipython",
    "version": 3
   },
   "file_extension": ".py",
   "mimetype": "text/x-python",
   "name": "python",
   "nbconvert_exporter": "python",
   "pygments_lexer": "ipython3",
   "version": "3.11.9"
  }
 },
 "nbformat": 4,
 "nbformat_minor": 5
}
