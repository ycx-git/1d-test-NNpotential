{
 "cells": [
  {
   "cell_type": "code",
   "execution_count": null,
   "metadata": {},
   "outputs": [],
   "source": [
    "import torch \n",
    "import numpy as np"
   ]
  },
  {
   "cell_type": "code",
   "execution_count": null,
   "metadata": {},
   "outputs": [],
   "source": [
    "print(torch.ones(5))\n",
    "a=np.linalg.inv([[1,1],[0,1]])\n",
    "print(a)"
   ]
  },
  {
   "cell_type": "code",
   "execution_count": null,
   "metadata": {},
   "outputs": [],
   "source": [
    "import time\n",
    "a=time.time()\n",
    "print(type(a))"
   ]
  },
  {
   "cell_type": "code",
   "execution_count": null,
   "metadata": {},
   "outputs": [],
   "source": [
    "\n",
    "scale=3\n",
    "para_num=5\n",
    "a=2*scale*torch.rand(para_num)-scale\n",
    "print(a)\n",
    "print(a[0:2])"
   ]
  },
  {
   "cell_type": "code",
   "execution_count": null,
   "metadata": {},
   "outputs": [],
   "source": [
    "a=torch.randint(0,100,(3,4))\n",
    "b=torch.randint(0,100,(3,4))\n",
    "c=torch.randint(0,100,(3,4))\n",
    "e=torch.concatenate((a,b,c),dim=0)\n",
    "f=torch.stack((a,b,c),dim=0)\n",
    "g=torch.concatenate((f,f),dim=0)\n",
    "print(a)\n",
    "print(b)\n",
    "print(c)\n",
    "print(e)\n",
    "list=[a,b,c]\n",
    "k=torch.cat(list,dim=0)\n",
    "print(k)\n",
    "print(f)\n"
   ]
  },
  {
   "cell_type": "code",
   "execution_count": null,
   "metadata": {},
   "outputs": [],
   "source": [
    "a=torch.randint(0,100,(3,4))\n",
    "b=torch.randint(0,100,(3,2))\n",
    "c=torch.concatenate((a,b),dim=-1)\n",
    "print(a)\n",
    "print(b)\n",
    "print(c)\n",
    "print(a[0:2].view(-1))   "
   ]
  },
  {
   "cell_type": "code",
   "execution_count": null,
   "metadata": {},
   "outputs": [],
   "source": [
    "import torch\n",
    "\n",
    "# 创建一个形状为 (3, 4) 的张量\n",
    "tensor = torch.tensor([[10, 20, 30, 40],\n",
    "                       [5, 1, 25, 35],\n",
    "                       [1.5, 2, 3, 4]], dtype=torch.float32)\n",
    "\n",
    "# 选取最小的 2 个元素\n",
    "values, indices = torch.topk(tensor.view(-1), k=2, largest=False)\n",
    "\n",
    "print(\"最小的 2 个元素:\", values)\n",
    "print(\"对应的索引:\", indices)"
   ]
  },
  {
   "cell_type": "code",
   "execution_count": null,
   "metadata": {},
   "outputs": [],
   "source": [
    "width=torch.tensor([4,0.01,0.01])\n",
    "alpha_list=2*width*torch.rand(3)-width\n",
    "print(alpha_list)"
   ]
  },
  {
   "cell_type": "code",
   "execution_count": null,
   "metadata": {},
   "outputs": [],
   "source": [
    "# torch.save(target_alpha,f'./target_alpha/alpha_{epoch}_{batch}_{count}.pt')\n",
    "# torch.save(data_eig,f'./data_eigenvalue/eigenvalues_{epoch}_{batch}_{count}.pt')\n",
    "epoch=2\n",
    "batch=16\n",
    "count=1\n",
    "a=torch.load(f'./target_alpha/alpha_{epoch}_{batch}_{count}.pt')\n",
    "b=torch.load(f'./data_eigenvalue/eigenvalues_{epoch}_{batch}_{count}.pt')\n",
    "print(a)\n",
    "print(b)"
   ]
  },
  {
   "cell_type": "code",
   "execution_count": null,
   "metadata": {},
   "outputs": [],
   "source": []
  },
  {
   "cell_type": "code",
   "execution_count": null,
   "metadata": {},
   "outputs": [],
   "source": [
    "import torch\n",
    "x=torch.tensor([1,2,3,4,5])-3\n",
    "mask1=(x>0).float()\n",
    "mask2=(x<0).float()\n",
    "print(mask1)\n",
    "print(mask2)"
   ]
  },
  {
   "cell_type": "code",
   "execution_count": null,
   "metadata": {},
   "outputs": [],
   "source": [
    "import torch\n",
    "\n",
    "# 定义一个示例函数\n",
    "x = torch.tensor([1.0 , 2.0], requires_grad=True)  # 确保启用梯度计算\n",
    "y = x**3  # 示例函数 y = x^3\n",
    "\n",
    "# 计算一阶导数\n",
    "grad_1 = torch.autograd.grad(y, x ,grad_outputs=torch.ones_like(y), create_graph=True)[0]\n",
    "\n",
    "print(grad_1)  # 输出 12.0\n",
    "# 计算二阶导数\n",
    "grad_2 = torch.autograd.grad(grad_1, x,grad_outputs=torch.ones_like(x))[0]\n",
    "\n",
    "print( grad_2)  "
   ]
  },
  {
   "cell_type": "code",
   "execution_count": 17,
   "metadata": {},
   "outputs": [
    {
     "name": "stdout",
     "output_type": "stream",
     "text": [
      "[[0.04785244 0.06995604 0.0838925  0.03822933]\n",
      " [0.04914186 0.09881986 0.07265541 0.01241883]\n",
      " [0.02829197 0.02709885 0.06777911 0.05656346]]\n",
      "[[ 1  2  3  4]\n",
      " [ 5  6  7  8]\n",
      " [ 9 10 11 12]]\n",
      "[[ 1.04785244  2.06995604  3.0838925   4.03822933]\n",
      " [ 5.04914186  6.09881986  7.07265541  8.01241883]\n",
      " [ 9.02829197 10.02709885 11.06777911 12.05656346]]\n",
      "[10.61459642 10.55324904 10.62374313 10.71588558]\n",
      "[3.25800498 3.24857646 3.2594084  3.27351273]\n",
      "[10.61459642 10.55324904 10.62374313 10.71588558]\n"
     ]
    }
   ],
   "source": [
    "import matplotlib.pyplot as plt\n",
    "import numpy as np\n",
    "\n",
    "a=np.random.rand(3,4)*0.1\n",
    "b=np.array([[1,2,3,4],[5,6,7,8],[9,10,11,12]])\n",
    "c=a+b\n",
    "print(a)    \n",
    "print(b)\n",
    "print(c)\n",
    "std=np.std(c,axis=0)\n",
    "mean=np.mean(c,axis=0)\n",
    "sq=0\n",
    "for i in range(3):\n",
    "    sq+=(c[i]-mean)**2\n",
    "print(sq/3)\n",
    "print(std)\n",
    "print(std**2)"
   ]
  },
  {
   "cell_type": "code",
   "execution_count": 22,
   "metadata": {},
   "outputs": [
    {
     "data": {
      "image/png": "[encoded data removed]",
      "text/plain": [
       "<Figure size 640x480 with 1 Axes>"
      ]
     },
     "metadata": {},
     "output_type": "display_data"
    }
   ],
   "source": [
    "upper=mean+std\n",
    "lower=mean-std\n",
    "plt.plot(mean,alpha=0.7)\n",
    "plt.fill_between(range(4),upper,lower,alpha=0.2)\n",
    "plt.show()"
   ]
  },
  {
   "cell_type": "code",
   "execution_count": 1,
   "metadata": {},
   "outputs": [
    {
     "name": "stdout",
     "output_type": "stream",
     "text": [
      "[1, 2]\n"
     ]
    }
   ],
   "source": [
    "a=[1,2,3]\n",
    "print(a[:-1])"
   ]
  },
  {
   "cell_type": "code",
   "execution_count": 2,
   "metadata": {},
   "outputs": [
    {
     "name": "stdout",
     "output_type": "stream",
     "text": [
      "tensor([[0, 1, 0, 0],\n",
      "        [0, 0, 2, 0],\n",
      "        [0, 0, 0, 3],\n",
      "        [0, 0, 0, 0]])\n"
     ]
    }
   ],
   "source": [
    "import torch\n",
    "a=torch.tensor([1,2,3])\n",
    "b=torch.diag(a,diagonal=1)\n",
    "print(b)"
   ]
  },
  {
   "cell_type": "code",
   "execution_count": null,
   "metadata": {},
   "outputs": [],
   "source": []
  }
 ],
 "metadata": {
  "kernelspec": {
   "display_name": "pubpy",
   "language": "python",
   "name": "python3"
  },
  "language_info": {
   "codemirror_mode": {
    "name": "ipython",
    "version": 3
   },
   "file_extension": ".py",
   "mimetype": "text/x-python",
   "name": "python",
   "nbconvert_exporter": "python",
   "pygments_lexer": "ipython3",
   "version": "3.11.9"
  }
 },
 "nbformat": 4,
 "nbformat_minor": 2
}
