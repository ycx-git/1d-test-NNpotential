{
 "cells": [
  {
   "cell_type": "code",
   "execution_count": null,
   "metadata": {},
   "outputs": [],
   "source": [
    "import torch \n",
    "import numpy as np"
   ]
  },
  {
   "cell_type": "code",
   "execution_count": null,
   "metadata": {},
   "outputs": [],
   "source": [
    "print(torch.ones(5))\n",
    "a=np.linalg.inv([[1,1],[0,1]])\n",
    "print(a)"
   ]
  },
  {
   "cell_type": "code",
   "execution_count": null,
   "metadata": {},
   "outputs": [],
   "source": [
    "import time\n",
    "a=time.time()\n",
    "print(type(a))"
   ]
  },
  {
   "cell_type": "code",
   "execution_count": null,
   "metadata": {},
   "outputs": [],
   "source": [
    "\n",
    "scale=3\n",
    "para_num=5\n",
    "a=2*scale*torch.rand(para_num)-scale\n",
    "print(a)\n",
    "print(a[0:2])"
   ]
  },
  {
   "cell_type": "code",
   "execution_count": null,
   "metadata": {},
   "outputs": [],
   "source": [
    "a=torch.randint(0,100,(3,4))\n",
    "b=torch.randint(0,100,(3,4))\n",
    "c=torch.randint(0,100,(3,4))\n",
    "e=torch.concatenate((a,b,c),dim=0)\n",
    "f=torch.stack((a,b,c),dim=0)\n",
    "g=torch.concatenate((f,f),dim=0)\n",
    "print(a)\n",
    "print(b)\n",
    "print(c)\n",
    "print(e)\n",
    "list=[a,b,c]\n",
    "k=torch.cat(list,dim=0)\n",
    "print(k)\n",
    "print(f)\n"
   ]
  },
  {
   "cell_type": "code",
   "execution_count": null,
   "metadata": {},
   "outputs": [],
   "source": [
    "a=torch.randint(0,100,(3,4))\n",
    "b=torch.randint(0,100,(3,2))\n",
    "c=torch.concatenate((a,b),dim=-1)\n",
    "print(a)\n",
    "print(b)\n",
    "print(c)\n",
    "print(a[0:2].view(-1))   "
   ]
  },
  {
   "cell_type": "code",
   "execution_count": null,
   "metadata": {},
   "outputs": [],
   "source": [
    "import torch\n",
    "\n",
    "# 创建一个形状为 (3, 4) 的张量\n",
    "tensor = torch.tensor([[10, 20, 30, 40],\n",
    "                       [5, 1, 25, 35],\n",
    "                       [1.5, 2, 3, 4]], dtype=torch.float32)\n",
    "\n",
    "# 选取最小的 2 个元素\n",
    "values, indices = torch.topk(tensor.view(-1), k=2, largest=False)\n",
    "\n",
    "print(\"最小的 2 个元素:\", values)\n",
    "print(\"对应的索引:\", indices)"
   ]
  },
  {
   "cell_type": "code",
   "execution_count": null,
   "metadata": {},
   "outputs": [],
   "source": [
    "width=torch.tensor([4,0.01,0.01])\n",
    "alpha_list=2*width*torch.rand(3)-width\n",
    "print(alpha_list)"
   ]
  },
  {
   "cell_type": "code",
   "execution_count": null,
   "metadata": {},
   "outputs": [],
   "source": [
    "# torch.save(target_alpha,f'./target_alpha/alpha_{epoch}_{batch}_{count}.pt')\n",
    "# torch.save(data_eig,f'./data_eigenvalue/eigenvalues_{epoch}_{batch}_{count}.pt')\n",
    "epoch=2\n",
    "batch=16\n",
    "count=1\n",
    "a=torch.load(f'./target_alpha/alpha_{epoch}_{batch}_{count}.pt')\n",
    "b=torch.load(f'./data_eigenvalue/eigenvalues_{epoch}_{batch}_{count}.pt')\n",
    "print(a)\n",
    "print(b)"
   ]
  },
  {
   "cell_type": "code",
   "execution_count": null,
   "metadata": {},
   "outputs": [],
   "source": []
  },
  {
   "cell_type": "code",
   "execution_count": null,
   "metadata": {},
   "outputs": [],
   "source": [
    "import torch\n",
    "x=torch.tensor([1,2,3,4,5])-3\n",
    "mask1=(x>0).float()\n",
    "mask2=(x<0).float()\n",
    "print(mask1)\n",
    "print(mask2)"
   ]
  },
  {
   "cell_type": "code",
   "execution_count": null,
   "metadata": {},
   "outputs": [],
   "source": [
    "import torch\n",
    "\n",
    "# 定义一个示例函数\n",
    "x = torch.tensor([1.0 , 2.0], requires_grad=True)  # 确保启用梯度计算\n",
    "y = x**3  # 示例函数 y = x^3\n",
    "\n",
    "# 计算一阶导数\n",
    "grad_1 = torch.autograd.grad(y, x ,grad_outputs=torch.ones_like(y), create_graph=True)[0]\n",
    "\n",
    "print(grad_1)  # 输出 12.0\n",
    "# 计算二阶导数\n",
    "grad_2 = torch.autograd.grad(grad_1, x,grad_outputs=torch.ones_like(x))[0]\n",
    "\n",
    "print( grad_2)  "
   ]
  },
  {
   "cell_type": "code",
   "execution_count": null,
   "metadata": {},
   "outputs": [],
   "source": [
    "\n"
   ]
  }
 ],
 "metadata": {
  "kernelspec": {
   "display_name": "pubpy",
   "language": "python",
   "name": "python3"
  },
  "language_info": {
   "codemirror_mode": {
    "name": "ipython",
    "version": 3
   },
   "file_extension": ".py",
   "mimetype": "text/x-python",
   "name": "python",
   "nbconvert_exporter": "python",
   "pygments_lexer": "ipython3",
   "version": "3.11.9"
  }
 },
 "nbformat": 4,
 "nbformat_minor": 2
}
