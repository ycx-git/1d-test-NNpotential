{
 "cells": [
  {
   "cell_type": "code",
   "execution_count": 1,
   "metadata": {},
   "outputs": [],
   "source": [
    "import numpy as np\n",
    "import torch\n",
    "import time"
   ]
  },
  {
   "cell_type": "code",
   "execution_count": 2,
   "metadata": {},
   "outputs": [],
   "source": [
    "def potential(r,k,l,alpha_list,scale=100):\n",
    "    result=0\n",
    "    for i in range(len(alpha_list)):\n",
    "        result+=alpha_list[i]*r**(i-1)\n",
    "        # 采用球bessel函数之类的“势能基”会不会更好?\n",
    "    return result*scale-k*(l+1)*l/r**2  # 离心势能是固定的"
   ]
  },
  {
   "cell_type": "code",
   "execution_count": 3,
   "metadata": {},
   "outputs": [],
   "source": [
    "h_bar=1\n",
    "m=1\n",
    "b_lap:float=-h_bar**2/(2*m)\n",
    "\n",
    "# 同时对于库伦势函数, 取e=1, 4\\pi\\epsilon_0=scale, E_n=-1/(2n^2)\n",
    "dtype=torch.float64\n",
    "device=torch.device(\"cuda\" if torch.cuda.is_available() else \"cpu\")\n",
    "\n",
    "La=0\n",
    "Lb =10\n",
    "L=Lb-La  # domain length\n",
    "N = 2048   # number of interior points # 对时间成本来说几乎是平方量级\n",
    "h :float= L / (N+1)\n",
    "\n",
    "# 控制势函数的大小\n",
    "scale=100"
   ]
  },
  {
   "cell_type": "code",
   "execution_count": 4,
   "metadata": {},
   "outputs": [],
   "source": [
    "batch=16\n",
    "epoch=2\n",
    "eig_num=12\n",
    "l_max=24\n",
    "para_num=5\n",
    "width=torch.tensor([4,0.1,0.01,0.01,0.01],dtype=dtype,device=device)\n",
    "\n",
    "grid=torch.linspace(La,Lb,N+2,dtype=dtype,device=device)\n",
    "grid=grid[1:-1]\n",
    "\n",
    "\n",
    "# Construct the tridiagonal matrix A\n",
    "diag = -2.0 / h**2 * torch.ones(N,device=device) * b_lap\n",
    "off_diag = 1.0 / h**2 * torch.ones(N - 1,device=device) * b_lap\n",
    "\n",
    "\n",
    "alpha_list_list=[]\n",
    "eig_list_list=[]\n",
    "for _ in range(batch):\n",
    "    alpha_list=2*width*torch.rand(para_num,device=device)-width\n",
    "    V_diag=potential(grid,b_lap,0,alpha_list,scale)\n",
    "    A_list=[]\n",
    "\n",
    "    # 保证势能的大小合适,不至于截断失效或者精度过低\n",
    "    while V_diag[0]<2*torch.mean(torch.abs(V_diag)) or V_diag[0]>100*torch.mean(torch.abs(V_diag)):\n",
    "        alpha_list=2*width*torch.rand(para_num,device=device)-width\n",
    "        V_diag=potential(grid,b_lap,0,alpha_list,scale)\n",
    "    \n",
    "    A = torch.diag(diag) + torch.diag(off_diag,diagonal=1) + torch.diag(off_diag, diagonal=-1)+torch.diag(V_diag)\n",
    "    A_list.append(A)\n",
    "    for l in range(1,l_max):\n",
    "        V_diag=potential(grid,b_lap,l,alpha_list,scale)\n",
    "        A = torch.diag(diag) + torch.diag(off_diag,diagonal=1) + torch.diag(off_diag, diagonal=-1)+torch.diag(V_diag)\n",
    "        A_list.append(A)\n",
    "    A_list=torch.stack(A_list,dim=0)\n",
    "    eigenvalues= torch.linalg.eigvalsh(A_list)\n",
    "    eigenvalues=eigenvalues[:,0:eig_num]\n",
    "    eigenvalues=eigenvalues.reshape(-1)\n",
    "    eig_min_pinch,_=torch.topk(eigenvalues,k=eig_num,largest=False)\n",
    "    alpha_list_list.append(alpha_list)\n",
    "    eig_list_list.append(eig_min_pinch)\n",
    "alpha_list_list=torch.stack(alpha_list_list,dim=0)\n",
    "eig_list_list=torch.stack(eig_list_list,dim=0)\n"
   ]
  },
  {
   "cell_type": "code",
   "execution_count": 5,
   "metadata": {},
   "outputs": [
    {
     "name": "stdout",
     "output_type": "stream",
     "text": [
      "eigenvalues: tensor([[  37.9698,   38.1838,   38.6054,   39.2237,   40.0241,   40.9907,\n",
      "           42.1076,   42.4523,   42.6858,   43.1446,   43.3596,   43.8141],\n",
      "        [  74.4141,   74.5630,   74.8595,   75.3012,   75.8845,   76.6050,\n",
      "           77.4577,   78.4369,   79.5367,   80.1117,   80.2678,   80.5786],\n",
      "        [   7.2131,    7.4276,    7.8373,    8.4139,    9.1290,    9.7641,\n",
      "            9.9589,   10.0170,   10.4916,   10.8844,   11.1461,   11.8910],\n",
      "        [  15.3985,   15.6446,   16.1231,   16.8112,   17.6831,   18.7141,\n",
      "           19.1198,   19.3999,   19.8821,   19.9395,   20.7063,   21.1687],\n",
      "        [  80.6250,   80.7701,   81.0591,   81.4899,   82.0594,   82.7637,\n",
      "           83.5981,   84.5576,   85.6367,   86.4629,   86.6143,   86.8301],\n",
      "        [   3.2607,    3.4640,    3.8008,    4.2291,    4.4085,    4.7180,\n",
      "            4.7258,    5.1636,    5.2770,    5.6827,    5.6881,    5.8735],\n",
      "        [-599.8139, -599.8035, -599.7826, -599.7513, -599.7095, -599.6572,\n",
      "         -599.5946, -599.5214, -599.4379, -599.3438, -599.2394, -599.1244],\n",
      "        [  13.0729,   13.3031,   13.7506,   14.3942,   15.2098,   16.1743,\n",
      "           16.5560,   16.8189,   17.2672,   17.3252,   18.0443,   18.4714],\n",
      "        [  12.0081,   12.1815,   12.5208,   13.0129,   13.6422,   14.3930,\n",
      "           14.9800,   15.1761,   15.2508,   15.5571,   16.1045,   16.2027],\n",
      "        [-443.1563, -443.1458, -443.1249, -443.0934, -443.0514, -442.9989,\n",
      "         -442.9359, -442.8625, -442.7785, -442.6841, -442.5791, -442.4637],\n",
      "        [-387.4745, -387.4639, -387.4429, -387.4113, -387.3692, -387.3165,\n",
      "         -387.2534, -387.1797, -387.0954, -387.0007, -386.8954, -386.7796],\n",
      "        [  11.6346,   12.0290,   12.7542,   13.7354,   14.9134,   15.0683,\n",
      "           15.5588,   16.2460,   16.4253,   17.5564,   17.7039,   18.7108],\n",
      "        [-460.5479, -460.5374, -460.5164, -460.4850, -460.4430, -460.3906,\n",
      "         -460.3277, -460.2543, -460.1704, -460.0761, -459.9713, -459.8559],\n",
      "        [  30.2094,   30.3594,   30.6569,   31.0973,   31.6742,   32.3801,\n",
      "           33.2068,   34.1458,   34.3715,   34.5318,   34.8494,   35.1887],\n",
      "        [  49.3922,   49.5743,   49.9350,   50.4683,   51.1656,   52.0172,\n",
      "           53.0123,   54.1402,   54.1920,   54.3880,   54.7758,   55.3474],\n",
      "        [-402.3928, -402.3823, -402.3613, -402.3299, -402.2879, -402.2354,\n",
      "         -402.1724, -402.0989, -402.0149, -401.9205, -401.8155, -401.7000]],\n",
      "       device='cuda:0', dtype=torch.float64)\n",
      "alpha_list: tensor([[ 5.0952e-01,  5.1309e-02,  4.8021e-05, -8.8150e-04,  7.4001e-03],\n",
      "        [ 1.4655e+00, -4.1969e-02,  2.3106e-03,  3.7411e-03,  9.2702e-03],\n",
      "        [ 1.5156e-01, -3.1138e-02,  7.3602e-03, -6.0007e-03,  3.2718e-03],\n",
      "        [ 2.6599e-01, -2.9590e-02,  3.1769e-03, -6.6440e-03,  6.6171e-03],\n",
      "        [ 1.6665e+00, -9.7622e-02,  9.6901e-03,  8.5950e-03,  8.5935e-03],\n",
      "        [ 1.4550e-02,  2.8658e-02, -1.7612e-03, -3.0892e-03,  1.0468e-03],\n",
      "        [ 3.6390e-02, -7.6174e-02, -8.8898e-03,  6.5013e-03, -7.1131e-03],\n",
      "        [ 2.4735e-01, -2.5753e-02, -4.6981e-03, -4.5712e-03,  5.5893e-03],\n",
      "        [ 2.7980e-01, -4.3841e-02,  8.9226e-03, -7.8997e-03,  4.1265e-03],\n",
      "        [ 5.3511e-01,  5.4399e-02,  3.4527e-03, -2.2518e-03, -4.8645e-03],\n",
      "        [ 6.5347e-01, -4.1129e-02,  5.8837e-03, -7.8728e-03, -3.6247e-03],\n",
      "        [ 9.7713e-02,  3.7123e-02, -9.2191e-03, -5.0095e-03,  7.1772e-03],\n",
      "        [ 5.6995e-01, -3.6725e-02, -1.8812e-03,  5.9786e-03, -5.7439e-03],\n",
      "        [ 7.5235e-01, -9.7039e-02, -3.8171e-03,  1.2954e-03,  5.1404e-03],\n",
      "        [ 7.2530e-01,  7.1143e-02,  1.2660e-03, -4.3113e-03,  8.5800e-03],\n",
      "        [ 6.2734e-01,  8.6165e-02,  8.2024e-03,  6.5915e-03, -5.4263e-03]],\n",
      "       device='cuda:0', dtype=torch.float64)\n"
     ]
    }
   ],
   "source": [
    "print(\"eigenvalues:\",eig_list_list)\n",
    "print(\"alpha_list:\",alpha_list_list)"
   ]
  },
  {
   "cell_type": "code",
   "execution_count": null,
   "metadata": {},
   "outputs": [],
   "source": []
  }
 ],
 "metadata": {
  "kernelspec": {
   "display_name": "pubpy",
   "language": "python",
   "name": "python3"
  },
  "language_info": {
   "codemirror_mode": {
    "name": "ipython",
    "version": 3
   },
   "file_extension": ".py",
   "mimetype": "text/x-python",
   "name": "python",
   "nbconvert_exporter": "python",
   "pygments_lexer": "ipython3",
   "version": "3.11.9"
  }
 },
 "nbformat": 4,
 "nbformat_minor": 2
}
