{
 "cells": [
  {
   "cell_type": "code",
   "execution_count": null,
   "metadata": {},
   "outputs": [],
   "source": [
    "import torch\n",
    "import torch.nn as nn\n",
    "class Mynetwork(nn.Module):\n",
    "    def __init__(self,input_num=1 , out_num=1,hidden_num=32):\n",
    "        super().__init__()\n",
    "        self.MLP=nn.Sequential(\n",
    "            nn.Linear(input_num, hidden_num),\n",
    "            nn.ELU(),\n",
    "            nn.Linear(hidden_num,hidden_num),\n",
    "            nn.ELU(),\n",
    "            nn.Linear(hidden_num,out_num),\n",
    "        )\n",
    "        pass\n",
    "    def forward(self,x):\n",
    "        return self.MLP(x)"
   ]
  },
  {
   "cell_type": "code",
   "execution_count": null,
   "metadata": {},
   "outputs": [],
   "source": [
    "A=torch.tensor([[3/2,-1/2],[-1/2,3/2]])\n",
    "\n",
    "eigenvalues= torch.linalg.eigvalsh(A)\n",
    "print(eigenvalues)"
   ]
  },
  {
   "cell_type": "code",
   "execution_count": null,
   "metadata": {},
   "outputs": [],
   "source": [
    "dtype=torch.float32\n",
    "NN=Mynetwork(1,1).to(dtype=dtype)\n",
    "input=torch.tensor([[1.0],[2.0]],dtype=dtype)\n",
    "print(NN(input))"
   ]
  },
  {
   "cell_type": "code",
   "execution_count": null,
   "metadata": {},
   "outputs": [],
   "source": [
    "output=NN(input)\n",
    "diag=torch.diag(output.flatten())\n",
    "B=torch.tensor([[0,-1/2],[-1/2,0]],dtype=torch.float32)+diag\n",
    "print(B)"
   ]
  },
  {
   "cell_type": "code",
   "execution_count": null,
   "metadata": {},
   "outputs": [],
   "source": [
    "pre_eig=torch.linalg.eigvalsh(B)\n",
    "print(pre_eig)"
   ]
  },
  {
   "cell_type": "code",
   "execution_count": null,
   "metadata": {},
   "outputs": [],
   "source": [
    "optimizer=torch.optim.Adam(NN.parameters(),lr=0.01)\n",
    "scheduler = torch.optim.lr_scheduler.ReduceLROnPlateau(optimizer,patience=20,threshold=1e-4)\n",
    "loss_fn=nn.L1Loss()\n",
    "for i in range(1000):\n",
    "    optimizer.zero_grad()\n",
    "    \n",
    "    output=NN(input)\n",
    "    diag=torch.diag(output.flatten())\n",
    "    B=torch.tensor([[0,-1/2],[-1/2,0]],dtype=torch.float32)+diag\n",
    "    pre_eig=torch.linalg.eigvalsh(B)\n",
    "    \n",
    "    loss=loss_fn(eigenvalues[0],pre_eig[0])\n",
    "    loss.backward()\n",
    "    # print(NN.MLP[0].weight.grad)\n",
    "    optimizer.step()\n",
    "    scheduler.step(loss)\n",
    "    if i %10==0:\n",
    "        print(pre_eig)\n",
    "        print(loss.item())"
   ]
  },
  {
   "cell_type": "code",
   "execution_count": null,
   "metadata": {},
   "outputs": [],
   "source": []
  }
 ],
 "metadata": {
  "kernelspec": {
   "display_name": "pubpy",
   "language": "python",
   "name": "python3"
  },
  "language_info": {
   "codemirror_mode": {
    "name": "ipython",
    "version": 3
   },
   "file_extension": ".py",
   "mimetype": "text/x-python",
   "name": "python",
   "nbconvert_exporter": "python",
   "pygments_lexer": "ipython3",
   "version": "3.11.9"
  }
 },
 "nbformat": 4,
 "nbformat_minor": 2
}
